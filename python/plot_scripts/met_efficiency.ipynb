{
 "cells": [
  {
   "cell_type": "code",
   "execution_count": 1,
   "metadata": {},
   "outputs": [
    {
     "name": "stdout",
     "output_type": "stream",
     "text": [
      "Welcome to JupyROOT 6.16/00\n"
     ]
    }
   ],
   "source": [
    "import ROOT as rt\n",
    "import root_numpy as rtnp\n",
    "import csv\n",
    "import re\n",
    "import sys\n",
    "import uproot\n",
    "import numpy as np\n",
    "import awkward\n",
    "import math\n",
    "import numba\n",
    "\n",
    "from matplotlib import pyplot as plt\n",
    "sys.path.append('/nfshome/christiw/llp/delayed_jet_analyzer/lib/')\n",
    "\n",
    "from histo_utilities import create_TH1D, create_TH2D, std_color_list\n",
    "from array import array\n",
    "from prettytable import PrettyTable\n",
    "import collections\n",
    "from collections import OrderedDict\n",
    "import CMS_lumi, tdrstyle\n",
    "tdrstyle.setTDRStyle()\n",
    "CMS_lumi.writeExtraText = 1\n",
    "CMS_lumi.extraText = \"     Simulation Preliminary\"\n",
    "\n",
    "# donotdelete = []\n"
   ]
  },
  {
   "cell_type": "code",
   "execution_count": 2,
   "metadata": {},
   "outputs": [
    {
     "name": "stdout",
     "output_type": "stream",
     "text": [
      "mh125 onelep 46097.33425\n",
      "mh125 twolep 8962.77734475\n",
      "mh300 onelep 2101.4133932\n",
      "mh300 twolep 407.19291906\n",
      "mh500 onelep 269.42719903\n",
      "mh500 twolep 51.795885348000006\n",
      "mh1000 onelep 11.203996155\n",
      "mh1000 twolep 2.9337205228500003\n",
      "mh2000 onelep 0.17832636558\n",
      "mh2000 twolep 0.0752794459995\n"
     ]
    }
   ],
   "source": [
    "# label['ggHm50ct100mmWISR'] = 'ggH M_{X} = 50 GeV, c#tau = 100 mm'\n",
    "\n",
    "lumi = (37.80+44.98+63.67) * 1000 #in pb, CMS recorded 2016 + 2017 + 2018\n",
    "\n",
    "onelep_br = 0.2134\n",
    "twolep_br = 0.06729\n",
    "    \n",
    "wh = { 'mh125':1.475,\n",
    "    'mh300':0.06724,\n",
    "    'mh500':0.008621,\n",
    "    'mh1000':3.585E-4,\n",
    "    'mh2000':5.706E-06 }\n",
    "zh = {  'mh125':9.095E-01,\n",
    "    'mh300':4.132E-02,\n",
    "    'mh500':5.256E-03,\n",
    "    'mh1000':2.977E-04,\n",
    "    'mh2000':7.639E-06 }\n",
    "cs = {\n",
    "}\n",
    "masses = [ 'mh125', 'mh300','mh500','mh1000','mh2000']\n",
    "pls = [ 'pl500','pl1000','pl10000']\n",
    "\n",
    "modes = ['onelep','twolep']\n",
    "for m in masses:\n",
    "    cs[m] = {}\n",
    "    cs[m]['onelep'] = wh[m]*onelep_br\n",
    "    cs[m]['twolep'] = zh[m]*twolep_br\n",
    "\n",
    "n_mc = {}\n",
    "for k,v in cs.items():\n",
    "    n_mc[k] = {}\n",
    "    for j,u in v.items():\n",
    "        n_mc[k][j] = lumi*u\n",
    "        print(k,j,n_mc[k][j])\n"
   ]
  },
  {
   "cell_type": "code",
   "execution_count": 122,
   "metadata": {},
   "outputs": [
    {
     "name": "stdout",
     "output_type": "stream",
     "text": [
      "[29.614815 20.078245]\n",
      "[61.15769 43.38087]\n",
      "[154.40254   57.35065   24.428314]\n",
      "[210.63249  154.34625  105.7752    41.322075  38.124897  26.134106]\n",
      "[355.4672   131.57999   57.989983  26.670671]\n"
     ]
    }
   ],
   "source": [
    "fpath =OrderedDict()\n",
    "tree = OrderedDict()\n",
    "NEvents = OrderedDict()\n",
    "wzNEvents = OrderedDict()\n",
    "trig = OrderedDict()\n",
    "trig_lepId = OrderedDict()\n",
    "trig_lepId_dijet = OrderedDict()\n",
    "\n",
    "bbbb = 0\n",
    "wH = 1\n",
    "\n",
    "directory = '/mnt/hadoop/store/group/phys_exotica/delayedjets/llp_analyzer/V1p0/MC_Summer16/vH/'\n",
    "if wH:\n",
    "    file_name = 'wH_Tree.root'\n",
    "else:\n",
    "    file_name = 'zH_Tree.root'\n",
    "if bbbb:\n",
    "    fpath['mh125'] = directory + 'bbbb_withISR_mh125_mx50_pl1000_ev100000/'+file_name\n",
    "    fpath['mh300'] = directory + 'bbbb_withISR_mh300_mx125_pl1000_ev100000/'+file_name\n",
    "    fpath['mh500'] = directory + 'bbbb_withISR_mh500_mx225_pl1000_ev100000/'+file_name\n",
    "    fpath['mh1000'] = directory + 'bbbb_withISR_mh1000_mx475_pl1000_ev100000/'+file_name\n",
    "    fpath['mh2000'] = directory + 'bbbb_withISR_mh2000_mx975_pl1000_ev100000/'+file_name\n",
    "\n",
    "else:\n",
    "    fpath['mh125'] = directory + 'metbb_withISR_mh125_mx50_pl1000_ev100000/'+file_name\n",
    "    fpath['mh300'] = directory + 'metbb_withISR_mh300_mx125_pl1000_ev100000/'+file_name\n",
    "    fpath['mh500'] = directory + 'metbb_withISR_mh500_mx225_pl1000_ev100000/'+file_name\n",
    "    fpath['mh1000'] = directory + 'metbb_withISR_mh1000_mx475_pl1000_ev100000/'+file_name\n",
    "    fpath['mh2000'] = directory + 'metbb_withISR_mh2000_mx975_pl1000_ev100000/'+file_name\n",
    "\n",
    "for k,v in fpath.items():\n",
    "#         tree[k][j] = rtnp.root2array(u)\n",
    "    root_dir = uproot.open(v) \n",
    "    wzNEvents[k] = root_dir['wzNEvents']\n",
    "    trig[k] = root_dir['trig']\n",
    "    trig_lepId[k] = root_dir['trig_lepId']\n",
    "    trig_lepId_dijet[k] = root_dir['trig_lepId_dijet']\n",
    "\n",
    "    tree[k] = root_dir['vH']\n",
    "    a = tree[k][\"jetPt\"].array()\n",
    "    print (a[:-1][0])\n",
    "    \n",
    "    \n",
    "trigger_names_file = '/nfshome/christiw/llp/delayed_jet_analyzer/data/trigger_names_llp_v1.dat'\n",
    "trigger_names = []\n",
    "with open(trigger_names_file) as f:\n",
    "    reader = csv.reader(f, delimiter=\" \")\n",
    "    for line in reader:\n",
    "        trigger_names.append(line[2])\n",
    "if wH:\n",
    "    trigger_paths = [87,135] #PFMET120\n",
    "else:\n",
    "    trigger_paths = [177,362,87,135] #PFMET120\n",
    "\n",
    "# 177 HLT_Mu17_TrkIsoVVL_Mu8_TrkIsoVVL_DZ\n",
    "# 362 HLT_Ele23_Ele12_CaloIdL_TrackIdL_IsoVL_DZ\n",
    "# 310 HLT_PFMET120_PFMHT120_IDTight\n",
    "# 87 HLT_Ele32_WPTight_Gsf\n",
    "# 135 HLT_IsoMu24\n",
    "# 310 PFMET\n",
    "\n",
    "\n"
   ]
  },
  {
   "cell_type": "code",
   "execution_count": 3,
   "metadata": {},
   "outputs": [
    {
     "ename": "NameError",
     "evalue": "name 'tree_bkg' is not defined",
     "output_type": "error",
     "traceback": [
      "\u001b[0;31m---------------------------------------------------------------------------\u001b[0m",
      "\u001b[0;31mNameError\u001b[0m                                 Traceback (most recent call last)",
      "\u001b[0;32m<ipython-input-3-41f2b5dac479>\u001b[0m in \u001b[0;36m<module>\u001b[0;34m\u001b[0m\n\u001b[1;32m      2\u001b[0m \u001b[0mtriggered\u001b[0m \u001b[0;34m=\u001b[0m \u001b[0;34m{\u001b[0m\u001b[0;34m}\u001b[0m\u001b[0;34m\u001b[0m\u001b[0m\n\u001b[1;32m      3\u001b[0m \u001b[0;34m\u001b[0m\u001b[0m\n\u001b[0;32m----> 4\u001b[0;31m \u001b[0;32mfor\u001b[0m \u001b[0mk\u001b[0m\u001b[0;34m,\u001b[0m\u001b[0mT\u001b[0m \u001b[0;32min\u001b[0m \u001b[0mtree_bkg\u001b[0m\u001b[0;34m.\u001b[0m\u001b[0mitems\u001b[0m\u001b[0;34m(\u001b[0m\u001b[0;34m)\u001b[0m\u001b[0;34m:\u001b[0m\u001b[0;34m\u001b[0m\u001b[0m\n\u001b[0m\u001b[1;32m      5\u001b[0m     \u001b[0mhlt\u001b[0m \u001b[0;34m=\u001b[0m \u001b[0mT\u001b[0m\u001b[0;34m[\u001b[0m\u001b[0;34m'HLTDecision'\u001b[0m\u001b[0;34m]\u001b[0m\u001b[0;34m.\u001b[0m\u001b[0marray\u001b[0m\u001b[0;34m(\u001b[0m\u001b[0;34m)\u001b[0m\u001b[0;34m\u001b[0m\u001b[0m\n\u001b[1;32m      6\u001b[0m     \u001b[0mtriggered\u001b[0m\u001b[0;34m[\u001b[0m\u001b[0mk\u001b[0m\u001b[0;34m]\u001b[0m \u001b[0;34m=\u001b[0m \u001b[0mnp\u001b[0m\u001b[0;34m.\u001b[0m\u001b[0mzeros\u001b[0m\u001b[0;34m(\u001b[0m\u001b[0mhlt\u001b[0m\u001b[0;34m[\u001b[0m\u001b[0;34m:\u001b[0m\u001b[0;34m,\u001b[0m\u001b[0;36m0\u001b[0m\u001b[0;34m]\u001b[0m\u001b[0;34m.\u001b[0m\u001b[0mshape\u001b[0m\u001b[0;34m)\u001b[0m\u001b[0;34m\u001b[0m\u001b[0m\n",
      "\u001b[0;31mNameError\u001b[0m: name 'tree_bkg' is not defined"
     ]
    }
   ],
   "source": [
    "# inclusive trigger efficiency * acceptance\n",
    "triggered = {}\n",
    "\n",
    "for k,T in tree_bkg.items():\n",
    "    hlt = T['HLTDecision'].array()\n",
    "    triggered[k] = np.zeros(hlt[:,0].shape)\n",
    "#     print(len(hlt),wzNEvents[k][1],trig[k][1],trig_lepId[k][1],trig_lepId_dijet[k][1])\n",
    "    for tr in trigger_paths:\n",
    "        triggered[k]  = np.logical_or(triggered[k],hlt[:,tr])\n",
    "    print(1.0*np.count_nonzero(triggered[k]),trig_lepId_dijet[k][1] )\n",
    "    assert(np.count_nonzero(triggered[k]) == trig_lepId_dijet[k][1])\n",
    "\n",
    "#     print(triggered[k].shape)"
   ]
  },
  {
   "cell_type": "code",
   "execution_count": 124,
   "metadata": {},
   "outputs": [
    {
     "name": "stdout",
     "output_type": "stream",
     "text": [
      "46.96, 25.3, 5.74, 5.4, 4.54, 3.02, 0.43, 0.03\n",
      "60.64, 32.73, 15.68, 15.37, 14.4, 12.38, 5.67, 0.11\n",
      "64.04, 34.56, 22.9, 22.56, 21.56, 19.75, 12.48, 1.09\n",
      "49.07, 26.23, 25.26, 25.1, 24.73, 23.79, 20.56, 5.61\n",
      "49.37, 26.76, 26.38, 26.34, 26.22, 25.63, 23.1, 9.9\n",
      "+---------------+--------------+--------------------+--------------------------+-----------+-----------+-----------+------------+------------+\n",
      "| m#phi\\met cut | triggered(%) | triggered+lepId(%) | triggered+lepid+dijet(%) | 15 GeV(%) | 30 GeV(%) | 50 GeV(%) | 100 GeV(%) | 300 GeV(%) |\n",
      "+---------------+--------------+--------------------+--------------------------+-----------+-----------+-----------+------------+------------+\n",
      "|     mh125     |    46.96     |        25.3        |           5.74           |    5.4    |    4.54   |    3.02   |    0.43    |    0.03    |\n",
      "|     mh300     |    60.64     |       32.73        |          15.68           |   15.37   |    14.4   |   12.38   |    5.67    |    0.11    |\n",
      "|     mh500     |    64.04     |       34.56        |           22.9           |   22.56   |   21.56   |   19.75   |   12.48    |    1.09    |\n",
      "|     mh1000    |    49.07     |       26.23        |          25.26           |    25.1   |   24.73   |   23.79   |   20.56    |    5.61    |\n",
      "|     mh2000    |    49.37     |       26.76        |          26.38           |   26.34   |   26.22   |   25.63   |    23.1    |    9.9     |\n",
      "+---------------+--------------+--------------------+--------------------------+-----------+-----------+-----------+------------+------------+\n"
     ]
    }
   ],
   "source": [
    "met = {}\n",
    "cuts = [15,30,50,100,300]\n",
    "eff_table = PrettyTable()\n",
    "fieldname = [\"m#phi\\met cut\",\"triggered(%)\",\"triggered+lepId(%)\",\"triggered+lepid+dijet(%)\"]\n",
    "for c in cuts:\n",
    "    fieldname.append(str(c)+' GeV(%)')\n",
    "eff_table.field_names = fieldname\n",
    "for k, T in tree.items():\n",
    "    row = [k, round(trig[k][1]/wzNEvents[k][1]*100,2),round(trig_lepId[k][1]/wzNEvents[k][1]*100,2),round(trig_lepId_dijet[k][1]/wzNEvents[k][1]*100,2)]\n",
    "    row_k = [round(trig[k][1]/wzNEvents[k][1]*100,2),round(trig_lepId[k][1]/wzNEvents[k][1]*100,2),round(trig_lepId_dijet[k][1]/wzNEvents[k][1]*100,2)]\n",
    "    met[k] = T['met'].array()\n",
    "#     print(k,', number of events:'+str((wzNEvents[k][1])))\n",
    "    for i in cuts:\n",
    "        triggered_met = np.logical_and(met[k]>i, triggered[k])\n",
    "        eff = np.count_nonzero(triggered_met)/wzNEvents[k][1]\n",
    "        row.append(str(round(eff*100,2)))\n",
    "        row_k.append(round(eff*100,2))\n",
    "    print(*row_k, sep=\", \")\n",
    "    eff_table.add_row(row)\n",
    "print(eff_table)"
   ]
  },
  {
   "cell_type": "code",
   "execution_count": 125,
   "metadata": {},
   "outputs": [
    {
     "name": "stdout",
     "output_type": "stream",
     "text": [
      "3.8, 3.76, 3.58, 2.34, 1.48, 0.49, 0.09, 0.0, 0.0, 0.0, 0.0\n",
      "12.96, 12.92, 12.76, 10.4, 7.23, 3.85, 1.51, 0.64, 0.2, 0.03, 0.02\n",
      "19.96, 19.92, 19.77, 17.12, 12.91, 8.2, 4.25, 1.88, 0.77, 0.38, 0.2\n",
      "24.47, 24.47, 24.42, 22.4, 18.1, 13.82, 8.63, 5.22, 3.07, 1.68, 0.58\n",
      "26.15, 26.15, 26.15, 24.74, 21.27, 17.31, 12.8, 9.12, 5.75, 3.35, 2.04\n",
      "+----------------+-------+-------+-------+-------+--------+-------+------+------+------+------+------+\n",
      "| m#phi\\Time cut | -3 ns | -2 ns | -1 ns |  0 ns | 0.5 ns |  1 ns | 2 ns | 3 ns | 4 ns | 5 ns | 6 ns |\n",
      "+----------------+-------+-------+-------+-------+--------+-------+------+------+------+------+------+\n",
      "|     mh125      |  3.8  |  3.76 |  3.58 |  2.34 |  1.48  |  0.49 | 0.09 | 0.0  | 0.0  | 0.0  | 0.0  |\n",
      "|     mh300      | 12.96 | 12.92 | 12.76 |  10.4 |  7.23  |  3.85 | 1.51 | 0.64 | 0.2  | 0.03 | 0.02 |\n",
      "|     mh500      | 19.96 | 19.92 | 19.77 | 17.12 | 12.91  |  8.2  | 4.25 | 1.88 | 0.77 | 0.38 | 0.2  |\n",
      "|     mh1000     | 24.47 | 24.47 | 24.42 |  22.4 |  18.1  | 13.82 | 8.63 | 5.22 | 3.07 | 1.68 | 0.58 |\n",
      "|     mh2000     | 26.15 | 26.15 | 26.15 | 24.74 | 21.27  | 17.31 | 12.8 | 9.12 | 5.75 | 3.35 | 2.04 |\n",
      "+----------------+-------+-------+-------+-------+--------+-------+------+------+------+------+------+\n"
     ]
    }
   ],
   "source": [
    "## Cut on jet timing\n",
    "jetTime = {}\n",
    "jetTime_met = {}\n",
    "met_cut = 30\n",
    "time_cuts = [0, 0.25, 0.5,0.6,0.7,0.8,0.9,1]\n",
    "time_cuts = [-3,-2,-1,0,0.5,1,2,3,4,5,6]\n",
    "efftime_table = PrettyTable()\n",
    "fieldname = [\"m#phi\\Time cut\"]\n",
    "for c in time_cuts:\n",
    "    fieldname.append(str(c)+' ns')\n",
    "efftime_table.field_names = fieldname\n",
    "for k, T in tree.items():\n",
    "    jetTime[k] = T['jetTime'].array()\n",
    "    met[k] = T['met'].array()\n",
    "#     print(k,', number of events:'+str(len(met[k])))\n",
    "    triggered_met = np.logical_and(met[k] > met_cut, triggered[k])\n",
    "    row = [k]\n",
    "    row_keynote = []\n",
    "    for i in time_cuts:\n",
    "#         jetTime[k] = jetTime[k][np.logical_not(np.isnan(jetTime[k]))]\n",
    "#         triggered_met = awkward.JaggedArray.fromiter([triggered_met[i] for i in range(len(triggered_met)) if len(jetTime[k][i])>0])\n",
    "#         jetTime[k] = awkward.JaggedArray.fromiter([x for x in jetTime[k] if len(x)>0])\n",
    "#         assert(jetTime[k].shape == triggered_met.shape)\n",
    "#         triggered_time = np.logical_and(triggered_met, jetTime[k][:,0] > i)\n",
    "        triggered_time = np.logical_and(triggered_met, (jetTime[k] > i).any())\n",
    "        temp = jetTime[k] > i\n",
    "        temp = temp.any()\n",
    "#         print(temp[0],jetTime[k][0],i)\n",
    "#         print(temp)\n",
    "        jetTime_met[k] = jetTime[k][triggered_met][:,0]\n",
    "        eff = np.count_nonzero(triggered_time)/wzNEvents[k][1]\n",
    "        row.append(str(round(eff*100,2)))\n",
    "        row_keynote.append(round(eff*100,2))\n",
    "    efftime_table.add_row(row)\n",
    "    print(*row_keynote, sep=\", \")\n",
    "print(efftime_table) # apply the time cut on max pT"
   ]
  },
  {
   "cell_type": "code",
   "execution_count": 216,
   "metadata": {},
   "outputs": [
    {
     "name": "stderr",
     "output_type": "stream",
     "text": [
      "Warning in <TCanvas::Constructor>: Deleting canvas with same name: c\n"
     ]
    },
    {
     "data": {
      "image/png": "[encoded data removed]",
      "text/plain": [
       "<IPython.core.display.Image object>"
      ]
     },
     "metadata": {},
     "output_type": "display_data"
    }
   ],
   "source": [
    "# plot leading jet pT\n",
    "c = rt.TCanvas('c','c', 800, 600)\n",
    "h = {}\n",
    "leg = rt.TLegend(0.62,0.68,0.95,0.90);\n",
    "leg.SetTextSize(0.03)\n",
    "rt.gStyle.SetOptStat(0000)\n",
    "i = 0\n",
    "\n",
    "legend = {'mh125':'(m#phi,ms) = (125,50) GeV',\n",
    "          'mh300':'(m#phi,ms) = (300,125) GeV',\n",
    "         'mh500':'(m#phi,ms) = (500,225) GeV',\n",
    "          'mh1000':'(m#phi,ms) = (1000,475) GeV',\n",
    "          'mh2000':'(m#phi,ms) = (2000,975) GeV',\n",
    "         }\n",
    "\n",
    "for k,v in jetTime_met.items():   \n",
    "#     h[k] = create_TH1D( v, axis_title=['MET [GeV]', 'fraction of events'], name=k, binning=[50,0,1500])\n",
    "    h[k] = create_TH1D( v, axis_title=['jetTime [GeV]', 'fraction of events'], name=k, binning=[50,-5,5])\n",
    "    h[k].SetLineColor(std_color_list[i])\n",
    "    h[k].SetMarkerColor(std_color_list[i])\n",
    "\n",
    "    leg.AddEntry(h[k],legend[k])\n",
    "#     h[k].GetYaxis().SetRangeUser(0,300)\n",
    "    if i == 0:\n",
    "        h[k].DrawNormalized('')\n",
    "    else:\n",
    "        h[k].DrawNormalized('same')\n",
    "    i += 1\n",
    "leg.Draw()\n",
    "c.SetLogy()\n",
    "c.Draw()"
   ]
  },
  {
   "cell_type": "code",
   "execution_count": null,
   "metadata": {},
   "outputs": [],
   "source": []
  }
 ],
 "metadata": {
  "kernelspec": {
   "display_name": "Python 2",
   "language": "python",
   "name": "python2"
  },
  "language_info": {
   "codemirror_mode": {
    "name": "ipython",
    "version": 3
   },
   "file_extension": ".py",
   "mimetype": "text/x-python",
   "name": "python",
   "nbconvert_exporter": "python",
   "pygments_lexer": "ipython3",
   "version": "3.6.6"
  }
 },
 "nbformat": 4,
 "nbformat_minor": 2
}
