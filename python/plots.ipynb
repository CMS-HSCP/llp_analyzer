{
 "cells": [
  {
   "cell_type": "code",
   "execution_count": 2,
   "metadata": {},
   "outputs": [
    {
     "name": "stdout",
     "output_type": "stream",
     "text": [
      "Welcome to JupyROOT 6.18/02\n",
      "3.6.8 (default, Aug  7 2019, 17:28:10) \n",
      "[GCC 4.8.5 20150623 (Red Hat 4.8.5-39)]\n"
     ]
    }
   ],
   "source": [
    "\"\"\"\n",
    "\n",
    "2022/10/03 \n",
    "ABCD method for probQ vs Ias\n",
    "for singleMu tracker-only analysis\n",
    "\n",
    "\"\"\"\n",
    "\n",
    "import ROOT as rt\n",
    "# import root_numpy as rtnp\n",
    "import csv\n",
    "import re\n",
    "import sys\n",
    "import collections\n",
    "import os\n",
    "\n",
    "from collections import OrderedDict\n",
    "import uproot\n",
    "import pandas as pd\n",
    "import math\n",
    "import scipy\n",
    "import awkward\n",
    "import numpy as np\n",
    "import time\n",
    "import numba\n",
    "from numba import jit\n",
    "from matplotlib import pyplot as plt\n",
    "sys.path.append('/storage/af/user/christiw/gpu/christiw/llp/delayed_jet_analyzer/lib/')\n",
    "from histo_utilities import create_TH1D, create_TH2D, std_color_list, create_TGraph, make_ratio_plot\n",
    "from helper_functions import deltaR, deltaPhi\n",
    "from scipy.stats import norm\n",
    "\n",
    "\n",
    "import CMS_lumi, tdrstyle\n",
    "a = tdrstyle.setTDRStyle()\n",
    "CMS_lumi.writeExtraText = 0\n",
    "\n",
    "\n",
    "# donotdelete = []\n",
    "print(sys.version)"
   ]
  },
  {
   "cell_type": "markdown",
   "metadata": {},
   "source": [
    "# load mass distributions"
   ]
  },
  {
   "cell_type": "code",
   "execution_count": 24,
   "metadata": {},
   "outputs": [
    {
     "name": "stdout",
     "output_type": "stream",
     "text": [
      "gluino_M-1800 \t 3.3372367033734918\n",
      "WJetsToLNu \t 27277177.734375\n",
      "WJetsToLNu_012J \t 24987014.16015625\n",
      "QCD_Pt-50_MuEnrichedPt5 \t 28140893.5546875\n",
      "TTTo2L2Nu \t 264710.7124328613\n",
      "TTToSemiLeptonic \t 731275.8636474609\n",
      "SingleMuon_Run2018C \t 4618827.0\n"
     ]
    }
   ],
   "source": [
    "fpath =OrderedDict()\n",
    "mass = OrderedDict()\n",
    "\n",
    "\n",
    "\n",
    "path = \"/storage/af/group/phys_exotica/HSCPAnalyzer/V1p0/MC_UL18/v2/normalized/\"\n",
    "\n",
    "signal = [\n",
    "    'gluino_M-1800',\n",
    "]\n",
    "\n",
    "\n",
    "bkg = [\n",
    "\n",
    "    'WJetsToLNu',\n",
    "    'WJetsToLNu_012J',\n",
    "    'QCD_Pt-50_MuEnrichedPt5',\n",
    "    'TTTo2L2Nu',\n",
    "    'TTToSemiLeptonic',\n",
    "\n",
    "]\n",
    "\n",
    "data =[\n",
    "    \"SingleMuon_Run2018C\",\n",
    "]\n",
    "for s in signal:\n",
    "    fpath[s] = path + 'HSCP' + s+ '_TuneCP5_13TeV-pythia8_1pb_weighted.root'\n",
    "for b in bkg:\n",
    "    if 'QCD' in b: fpath[b] = path + b+ '_TuneCP5_13TeV-pythia8_1pb_weighted.root'\n",
    "    elif 'TT' in b: fpath[b] = path + b+ '_TuneCP5_13TeV-powheg-pythia8_1pb_weighted.root'\n",
    "    else:fpath[b] = path + b+ '_TuneCP5_13TeV-amcatnloFXFX-pythia8_1pb_weighted.root'\n",
    "\n",
    "        \n",
    "path = '/storage/af/group/phys_exotica/HSCPAnalyzer/V1p0/Data_UL/SingleMuon/v1/normalized/'\n",
    "\n",
    "for d in data:\n",
    "    fpath[d] = path + 'HSCPNtupler_' + d + '_CodeV1p0_v1_goodLumi.root'\n",
    "\n",
    "\n",
    "lumi =10 * 1000\n",
    "tree = {}\n",
    "NEvents = {}\n",
    "for k,v in fpath.items():\n",
    "\n",
    "    root_dir = uproot.open(v)\n",
    "    NEvents[k] = root_dir['NEvents'].values[0]\n",
    "    tree[k] = root_dir['tree']\n",
    "    \n",
    "\n",
    "    if k in data: print(k, '\\t', np.sum(tree[k].array('weight')))\n",
    "    else: print(k, '\\t', lumi*np.sum(tree[k].array('weight')))"
   ]
  },
  {
   "cell_type": "code",
   "execution_count": 12,
   "metadata": {},
   "outputs": [
    {
     "name": "stdout",
     "output_type": "stream",
     "text": [
      "gluino_M-1800 96454.0 0.2976859 5.196123082385177e-05\n",
      "WJetsToLNu 670052840000.0 681171.4 18.45992886178862\n"
     ]
    },
    {
     "name": "stderr",
     "output_type": "stream",
     "text": [
      "/usr/local/lib/python3.6/site-packages/awkward/array/jagged.py:1031: RuntimeWarning: divide by zero encountered in true_divide\n",
      "  result = getattr(ufunc, method)(*inputs, **kwargs)\n"
     ]
    },
    {
     "name": "stdout",
     "output_type": "stream",
     "text": [
      "WJetsToLNu_012J 8290677000000.0 591415.4 0.19777880016199115\n",
      "QCD_Pt-50_MuEnrichedPt5 214305380.0 7201.351 0.9715800154099771\n",
      "TTTo2L2Nu 6704168400.0 12519.945 0.001615109403177058\n",
      "TTToSemiLeptonic 46621890000.0 31654.65 0.004009630615983219\n",
      "SingleMuon_Run2018C 4747798.0 296493.0 1.0\n",
      "0.5013279\n"
     ]
    }
   ],
   "source": [
    "#### implement pre-selection\n",
    "ias = {}\n",
    "probq = {}\n",
    "weight = {}\n",
    "HSCP_pt = {}\n",
    "HSCP_eta = {}\n",
    "met = {}\n",
    "metPhi = {}\n",
    "for k, T in tree.items():\n",
    "    sel_hscp = T.array('HSCP_pt') > 55\n",
    "    sel_hscp = np.logical_and(sel_hscp, np.abs(T.array('HSCP_eta'))<1)\n",
    "    sel_hscp = np.logical_and(sel_hscp, T.array('HSCP_nPixelHit') >= 2)\n",
    "\n",
    "    sel_hscp = np.logical_and(sel_hscp, T.array('HSCP_nHits') > 9)\n",
    "\n",
    "    sel_hscp = np.logical_and(sel_hscp, T.array('HSCP_isHighPurity'))\n",
    "    sel_hscp = np.logical_and(sel_hscp, T.array('HSCP_fracValidHits') > 0.8)\n",
    "    sel_hscp = np.logical_and(sel_hscp, T.array('HSCP_dZ') < 0.1)\n",
    "    sel_hscp = np.logical_and(sel_hscp, T.array('HSCP_dXY') < 0.02)\n",
    "    sel_hscp = np.logical_and(sel_hscp, T.array('HSCP_EOverP') < 0.3)\n",
    "    sel_hscp = np.logical_and(sel_hscp, T.array('HSCP_chi2')/T.array('HSCP_nDof') < 5)\n",
    "\n",
    "    sel_hscp = np.logical_and(sel_hscp, T.array('HSCP_track_genTrackMiniIsoSumPt') < 15)\n",
    "\n",
    "    sel_hscp = np.logical_and(sel_hscp, T.array('HSCP_pfMiniIso_relative')< 0.02)\n",
    "\n",
    "    sel_hscp = np.logical_and(sel_hscp, T.array('HSCP_probQ') < 0.7)\n",
    "    sel_hscp = np.logical_and(sel_hscp, T.array('HSCP_probQ') > 0.0)\n",
    "    sel_hscp = np.logical_and(sel_hscp, T.array('HSCP_ptErr')/T.array('HSCP_pt')**2 < 0.0008)\n",
    "\n",
    "    sel_ev = np.logical_and(sel_hscp.sum()>0, T.array('HLT_Mu50'))\n",
    "\n",
    "    probq[k] = T.array('HSCP_probQ')[sel_hscp][sel_ev]\n",
    "    ias[k] = T.array('HSCP_ias_StripOnly')[sel_hscp][sel_ev]\n",
    "    if k in data:\n",
    "        weight[k] = T.array('weight')[sel_ev]*1.0\n",
    "\n",
    "\n",
    "    else:\n",
    "    #     weight[k] = T.array('weight')[sel_ev]*T.array('pileupWeight')[sel_ev]*lumi + T.array('HSCP_probQ')[sel_hscp][sel_ev]*0.0\n",
    "        weight[k] = T.array('weight')[sel_ev]*T.array('pileupWeight')[sel_ev]*lumi\n",
    "    HSCP_pt[k] = T.array('HSCP_pt')[sel_hscp][sel_ev]\n",
    "    HSCP_eta[k] = T.array('HSCP_eta')[sel_hscp][sel_ev]\n",
    "\n",
    "\n",
    "    metPhi[k] = T.array('metPhi')[sel_ev]\n",
    "\n",
    "    print(k, NEvents[k], np.sum(weight[k]), np.sum(weight[k])/len(weight[k]))\n"
   ]
  },
  {
   "cell_type": "markdown",
   "metadata": {},
   "source": [
    "# stack plots"
   ]
  },
  {
   "cell_type": "code",
   "execution_count": 17,
   "metadata": {},
   "outputs": [
    {
     "name": "stdout",
     "output_type": "stream",
     "text": [
      "TTTo2L2Nu 12519.947035776684\n",
      "TTToSemiLeptonic 31654.650887046708\n",
      "QCD_Pt-50_MuEnrichedPt5 7201.351150452276\n",
      "WJetsToLNu_012J 591415.0452840924\n",
      "SingleMuon_Run2018C 296493.0\n"
     ]
    },
    {
     "name": "stderr",
     "output_type": "stream",
     "text": [
      "Warning in <TCanvas::Constructor>: Deleting canvas with same name: c\n",
      "Warning in <TROOT::Append>: Replacing existing TH1: TTTo2L2Nu (Potential memory leak).\n",
      "Warning in <TROOT::Append>: Replacing existing TH1: TTToSemiLeptonic (Potential memory leak).\n",
      "Warning in <TROOT::Append>: Replacing existing TH1: QCD_Pt-50_MuEnrichedPt5 (Potential memory leak).\n",
      "Warning in <TROOT::Append>: Replacing existing TH1: WJetsToLNu_012J (Potential memory leak).\n"
     ]
    },
    {
     "data": {
      "image/png": "[encoded data removed]",
      "text/plain": [
       "<IPython.core.display.Image object>"
      ]
     },
     "metadata": {},
     "output_type": "display_data"
    }
   ],
   "source": [
    "# Plotting THStack\n",
    "c = rt.TCanvas('c','c', 800, 800)\n",
    "h = {}\n",
    "# leg = rt.TLegend(0.50,0.75,0.97,0.93)\n",
    "leg = rt.TLegend(0.58,0.70,0.97,0.93)\n",
    "leg = rt.TLegend(0.58,0.70,0.97,0.93)\n",
    "\n",
    "leg.SetTextSize(0.022)\n",
    "# leg.SetTextFont(42)\n",
    "leg.SetEntrySeparation(0.01)\n",
    "stack = rt.THStack( \"hs\" , \"Hgg Stack \" )\n",
    "color_list = [845,393,861,806,876,597,625,  2,3,4,5]\n",
    "var = [HSCP_pt, HSCP_eta]\n",
    "xaxis = ['HSCP pT [GeV]', 'HSCP #eta']\n",
    "save = ['nocut_jet1Pt', 'nocut_jet2Pt', 'nocut_jetTime', 'nocut_jetEta', 'nocut_jetPhi', 'nocut_lepPt', 'nocut_lepEta', 'nocut_lepPhi', 'nocut_metPhi', 'nocut_met', 'nocut_weight']\n",
    "\n",
    "bins = [[40,0,1000],[40,-1,1]]\n",
    "setlog = [1,1,0,0,0,1,0,0,0,1,0]\n",
    "bkg_keys = ['QCD_Pt-50_MuEnrichedPt5','WJetsToLNu_012J']\n",
    "\n",
    "bkg_keys = [\n",
    "    'QCD_Pt-1000_MuEnrichedPt5',\n",
    "'QCD_Pt-120To170_MuEnrichedPt5',\n",
    "'QCD_Pt-170To300_MuEnrichedPt5',\n",
    "'QCD_Pt-300To470_MuEnrichedPt5',\n",
    "'QCD_Pt-470To600_MuEnrichedPt5',\n",
    "'QCD_Pt-50To80_MuEnrichedPt5',\n",
    "'QCD_Pt-50_MuEnrichedPt5',\n",
    "'QCD_Pt-600To800_MuEnrichedPt5',\n",
    "'QCD_Pt-800To1000_MuEnrichedPt5',\n",
    "'QCD_Pt-80To120_MuEnrichedPt5',\n",
    "    'WJetsToLNu_012J',\n",
    "\n",
    "\n",
    "]\n",
    "\n",
    "bkg_keys = [\n",
    "    'TTTo2L2Nu',\n",
    "    'TTToSemiLeptonic',\n",
    "    'QCD_Pt-50_MuEnrichedPt5',\n",
    "    'WJetsToLNu_012J',\n",
    "]\n",
    "\n",
    "\n",
    "data_key = 'SingleMuon_Run2018C'\n",
    "var_i =1\n",
    "\n",
    "i=0\n",
    "norm = 0\n",
    "\n",
    "for k in bkg_keys:\n",
    "    v = var[var_i][k]\n",
    "    h[k] = create_TH1D( v[:,0], axis_title=[xaxis[var_i], 'Events'], name=k, binning=bins[var_i],weights = weight[k])\n",
    "    h[k].SetFillColor(color_list[i])\n",
    "\n",
    "    h[k].SetLineColor(color_list[i])\n",
    "\n",
    "    stack.Add( h[k])\n",
    "    leg.AddEntry(h[k],k)\n",
    "    print(k, h[k].Integral())\n",
    "    norm += sum(weight[k])\n",
    "    i+=1\n",
    "\n",
    "stack.Draw('HIST')\n",
    "i = 1\n",
    "h[data_key] = create_TH1D( var[var_i][data_key][:,0], axis_title=[xaxis[var_i], 'Events'], name=k, binning=bins[var_i],weights = weight[data_key])\n",
    "h[data_key].Draw('hist same')\n",
    "leg.AddEntry(h[data_key],data_key)\n",
    "print(data_key, h[data_key].Integral())\n",
    "\n",
    "if var_i == 0: leg.Draw()\n",
    "stack.GetXaxis().SetTitle(xaxis[var_i])\n",
    "stack.GetYaxis().SetTitle(\"Events\")\n",
    "stack.GetYaxis().SetTitleOffset(1.4)\n",
    "stack.SetMinimum(1)\n",
    "\n",
    "if setlog: \n",
    "    c.SetLogy()\n",
    "c.Draw()\n",
    "# c.SaveAs(\"../plots/stackplot_zh_\"+save[var_i]+\"_signalscaled-10e3.pdf\")\n",
    "# c = make_ratio_plot(h[data_key], stack, fit = False, logy=1, in_tags = [\"MC\",\"Data\"], ratio_bounds = [0.,2], draw_opt = ['E2','E1'])\n",
    "# c.Draw()\n",
    "\n",
    "\n"
   ]
  }
 ],
 "metadata": {
  "kernelspec": {
   "display_name": "Python 3",
   "language": "python",
   "name": "python3"
  },
  "language_info": {
   "codemirror_mode": {
    "name": "ipython",
    "version": 3
   },
   "file_extension": ".py",
   "mimetype": "text/x-python",
   "name": "python",
   "nbconvert_exporter": "python",
   "pygments_lexer": "ipython3",
   "version": "3.6.8"
  }
 },
 "nbformat": 4,
 "nbformat_minor": 4
}
